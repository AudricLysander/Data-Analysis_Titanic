{
 "cells": [
  {
   "cell_type": "markdown",
   "id": "ff60ec2e-86b7-437f-9891-380be52da9e3",
   "metadata": {},
   "source": [
    "# Data Analysis: TITANIC"
   ]
  },
  {
   "cell_type": "markdown",
   "id": "c410f828-2b83-4753-a9a3-df5ae5e6a889",
   "metadata": {
    "tags": []
   },
   "source": [
    "## Dataset explanation"
   ]
  },
  {
   "cell_type": "markdown",
   "id": "40464058-604b-465b-9c20-f1ae48ca663d",
   "metadata": {},
   "source": [
    "The Titanic dataset is a dataset obtained from one of the most famous shipwrecks in history, the Titanic.\n",
    "\n",
    "On her maiden voyage on April 15, 1912, the RMS Titanic was deemed the \"unsinkable\" ship that sank due to a collision with an iceberg. Unfortunately, there were not enough lifeboats to accommodate all the passengers.\n",
    "\n",
    "While there is a lot of luck going into survival, it seems that some groups of people are more likely to survive than others.\n",
    "\n",
    "Dataset Source: https://raw.githubusercontent.com/mwaskom/seaborn-data/master/titanic.csv"
   ]
  },
  {
   "cell_type": "markdown",
   "id": "d754b29d-7db7-4680-9056-27908d7eb1fe",
   "metadata": {
    "tags": []
   },
   "source": [
    "## Explanation of Data Analysis"
   ]
  },
  {
   "cell_type": "markdown",
   "id": "a29997b7-2fa8-4012-b0cd-2153e798e6b0",
   "metadata": {},
   "source": [
    "At this stage, data exploration will be carried out which includes preprocessing. So that every feature of the explored data will be clean from Null Values and each feature will have a data type that matches the data dictionary. Data exploration is carried out in several stages and is carried out based on data groups."
   ]
  },
  {
   "cell_type": "markdown",
   "id": "320f4db9-8a64-410c-8e22-6596db74222c",
   "metadata": {
    "tags": []
   },
   "source": [
    "## Feature Description"
   ]
  },
  {
   "cell_type": "markdown",
   "id": "5777c8ea-c46c-4e47-9c92-43e35b0039e4",
   "metadata": {},
   "source": [
    "- survive = Passengers who are survive or not survive\n",
    "- pclass = Class of ticket\n",
    "- sex = Passenger gender\n",
    "- age = Passenger age in years\n",
    "- sibsp = # of siblings / spouses aboard the Titanic\n",
    "- parch = # of parents / children aboard the Titanic\n",
    "- fare = Passenger fare\n",
    "- embarked = Port of Embarktion\n",
    "- class = Class of ticket\n",
    "- who = Call for passengers\n",
    "- adult_male = Adult male passenger\n",
    "- deck = Passenger deck\n",
    "- embarked = Port of Embarktion\n",
    "- alive = Passengers who are survive or not survive\n",
    "- alone = Single passenger"
   ]
  },
  {
   "cell_type": "markdown",
   "id": "786b9502-580e-4e29-a896-08edefa5cb7e",
   "metadata": {},
   "source": [
    "## Import Libraries"
   ]
  },
  {
   "cell_type": "code",
   "execution_count": 1,
   "id": "cd98dd96-3ee3-446d-97f0-9f00c890e1bc",
   "metadata": {},
   "outputs": [],
   "source": [
    "import pandas as pd\n",
    "import numpy as np\n",
    "import seaborn as sns\n",
    "import matplotlib.pyplot as plt\n",
    "%matplotlib inline\n",
    "\n",
    "import scipy.stats as ss\n",
    "\n",
    "import warnings\n",
    "warnings.filterwarnings(\"ignore\")"
   ]
  },
  {
   "cell_type": "markdown",
   "id": "d9c7737d-8896-4263-a871-7978a6b4b40e",
   "metadata": {},
   "source": [
    "## Overview"
   ]
  },
  {
   "cell_type": "markdown",
   "id": "f60d81e8-382b-440d-a831-a9e0e1ce564a",
   "metadata": {},
   "source": [
    "> Load the data data"
   ]
  },
  {
   "cell_type": "code",
   "execution_count": 2,
   "id": "62e8f284-f40b-48ec-a403-c4c47aada0c2",
   "metadata": {},
   "outputs": [],
   "source": [
    "df = pd.read_csv(\"https://raw.githubusercontent.com/mwaskom/seaborn-data/master/titanic.csv\")"
   ]
  },
  {
   "cell_type": "markdown",
   "id": "e2cd1085-fae7-42cc-bed4-643d4320ea00",
   "metadata": {},
   "source": [
    "> Show 5 first and last data"
   ]
  },
  {
   "cell_type": "code",
   "execution_count": 3,
   "id": "af059084-5a8f-4862-9e62-1b99ab81f60e",
   "metadata": {},
   "outputs": [
    {
     "data": {
      "text/html": [
       "<div>\n",
       "<style scoped>\n",
       "    .dataframe tbody tr th:only-of-type {\n",
       "        vertical-align: middle;\n",
       "    }\n",
       "\n",
       "    .dataframe tbody tr th {\n",
       "        vertical-align: top;\n",
       "    }\n",
       "\n",
       "    .dataframe thead th {\n",
       "        text-align: right;\n",
       "    }\n",
       "</style>\n",
       "<table border=\"1\" class=\"dataframe\">\n",
       "  <thead>\n",
       "    <tr style=\"text-align: right;\">\n",
       "      <th></th>\n",
       "      <th>survived</th>\n",
       "      <th>pclass</th>\n",
       "      <th>sex</th>\n",
       "      <th>age</th>\n",
       "      <th>sibsp</th>\n",
       "      <th>parch</th>\n",
       "      <th>fare</th>\n",
       "      <th>embarked</th>\n",
       "      <th>class</th>\n",
       "      <th>who</th>\n",
       "      <th>adult_male</th>\n",
       "      <th>deck</th>\n",
       "      <th>embark_town</th>\n",
       "      <th>alive</th>\n",
       "      <th>alone</th>\n",
       "    </tr>\n",
       "  </thead>\n",
       "  <tbody>\n",
       "    <tr>\n",
       "      <th>0</th>\n",
       "      <td>0</td>\n",
       "      <td>3</td>\n",
       "      <td>male</td>\n",
       "      <td>22.0</td>\n",
       "      <td>1</td>\n",
       "      <td>0</td>\n",
       "      <td>7.2500</td>\n",
       "      <td>S</td>\n",
       "      <td>Third</td>\n",
       "      <td>man</td>\n",
       "      <td>True</td>\n",
       "      <td>NaN</td>\n",
       "      <td>Southampton</td>\n",
       "      <td>no</td>\n",
       "      <td>False</td>\n",
       "    </tr>\n",
       "    <tr>\n",
       "      <th>1</th>\n",
       "      <td>1</td>\n",
       "      <td>1</td>\n",
       "      <td>female</td>\n",
       "      <td>38.0</td>\n",
       "      <td>1</td>\n",
       "      <td>0</td>\n",
       "      <td>71.2833</td>\n",
       "      <td>C</td>\n",
       "      <td>First</td>\n",
       "      <td>woman</td>\n",
       "      <td>False</td>\n",
       "      <td>C</td>\n",
       "      <td>Cherbourg</td>\n",
       "      <td>yes</td>\n",
       "      <td>False</td>\n",
       "    </tr>\n",
       "    <tr>\n",
       "      <th>2</th>\n",
       "      <td>1</td>\n",
       "      <td>3</td>\n",
       "      <td>female</td>\n",
       "      <td>26.0</td>\n",
       "      <td>0</td>\n",
       "      <td>0</td>\n",
       "      <td>7.9250</td>\n",
       "      <td>S</td>\n",
       "      <td>Third</td>\n",
       "      <td>woman</td>\n",
       "      <td>False</td>\n",
       "      <td>NaN</td>\n",
       "      <td>Southampton</td>\n",
       "      <td>yes</td>\n",
       "      <td>True</td>\n",
       "    </tr>\n",
       "    <tr>\n",
       "      <th>3</th>\n",
       "      <td>1</td>\n",
       "      <td>1</td>\n",
       "      <td>female</td>\n",
       "      <td>35.0</td>\n",
       "      <td>1</td>\n",
       "      <td>0</td>\n",
       "      <td>53.1000</td>\n",
       "      <td>S</td>\n",
       "      <td>First</td>\n",
       "      <td>woman</td>\n",
       "      <td>False</td>\n",
       "      <td>C</td>\n",
       "      <td>Southampton</td>\n",
       "      <td>yes</td>\n",
       "      <td>False</td>\n",
       "    </tr>\n",
       "    <tr>\n",
       "      <th>4</th>\n",
       "      <td>0</td>\n",
       "      <td>3</td>\n",
       "      <td>male</td>\n",
       "      <td>35.0</td>\n",
       "      <td>0</td>\n",
       "      <td>0</td>\n",
       "      <td>8.0500</td>\n",
       "      <td>S</td>\n",
       "      <td>Third</td>\n",
       "      <td>man</td>\n",
       "      <td>True</td>\n",
       "      <td>NaN</td>\n",
       "      <td>Southampton</td>\n",
       "      <td>no</td>\n",
       "      <td>True</td>\n",
       "    </tr>\n",
       "  </tbody>\n",
       "</table>\n",
       "</div>"
      ],
      "text/plain": [
       "   survived  pclass     sex   age  sibsp  parch     fare embarked  class  \\\n",
       "0         0       3    male  22.0      1      0   7.2500        S  Third   \n",
       "1         1       1  female  38.0      1      0  71.2833        C  First   \n",
       "2         1       3  female  26.0      0      0   7.9250        S  Third   \n",
       "3         1       1  female  35.0      1      0  53.1000        S  First   \n",
       "4         0       3    male  35.0      0      0   8.0500        S  Third   \n",
       "\n",
       "     who  adult_male deck  embark_town alive  alone  \n",
       "0    man        True  NaN  Southampton    no  False  \n",
       "1  woman       False    C    Cherbourg   yes  False  \n",
       "2  woman       False  NaN  Southampton   yes   True  \n",
       "3  woman       False    C  Southampton   yes  False  \n",
       "4    man        True  NaN  Southampton    no   True  "
      ]
     },
     "execution_count": 3,
     "metadata": {},
     "output_type": "execute_result"
    }
   ],
   "source": [
    "df.head()"
   ]
  },
  {
   "cell_type": "code",
   "execution_count": 4,
   "id": "2054136d-8421-48aa-9827-6a2f7d1932fc",
   "metadata": {},
   "outputs": [
    {
     "data": {
      "text/html": [
       "<div>\n",
       "<style scoped>\n",
       "    .dataframe tbody tr th:only-of-type {\n",
       "        vertical-align: middle;\n",
       "    }\n",
       "\n",
       "    .dataframe tbody tr th {\n",
       "        vertical-align: top;\n",
       "    }\n",
       "\n",
       "    .dataframe thead th {\n",
       "        text-align: right;\n",
       "    }\n",
       "</style>\n",
       "<table border=\"1\" class=\"dataframe\">\n",
       "  <thead>\n",
       "    <tr style=\"text-align: right;\">\n",
       "      <th></th>\n",
       "      <th>survived</th>\n",
       "      <th>pclass</th>\n",
       "      <th>sex</th>\n",
       "      <th>age</th>\n",
       "      <th>sibsp</th>\n",
       "      <th>parch</th>\n",
       "      <th>fare</th>\n",
       "      <th>embarked</th>\n",
       "      <th>class</th>\n",
       "      <th>who</th>\n",
       "      <th>adult_male</th>\n",
       "      <th>deck</th>\n",
       "      <th>embark_town</th>\n",
       "      <th>alive</th>\n",
       "      <th>alone</th>\n",
       "    </tr>\n",
       "  </thead>\n",
       "  <tbody>\n",
       "    <tr>\n",
       "      <th>886</th>\n",
       "      <td>0</td>\n",
       "      <td>2</td>\n",
       "      <td>male</td>\n",
       "      <td>27.0</td>\n",
       "      <td>0</td>\n",
       "      <td>0</td>\n",
       "      <td>13.00</td>\n",
       "      <td>S</td>\n",
       "      <td>Second</td>\n",
       "      <td>man</td>\n",
       "      <td>True</td>\n",
       "      <td>NaN</td>\n",
       "      <td>Southampton</td>\n",
       "      <td>no</td>\n",
       "      <td>True</td>\n",
       "    </tr>\n",
       "    <tr>\n",
       "      <th>887</th>\n",
       "      <td>1</td>\n",
       "      <td>1</td>\n",
       "      <td>female</td>\n",
       "      <td>19.0</td>\n",
       "      <td>0</td>\n",
       "      <td>0</td>\n",
       "      <td>30.00</td>\n",
       "      <td>S</td>\n",
       "      <td>First</td>\n",
       "      <td>woman</td>\n",
       "      <td>False</td>\n",
       "      <td>B</td>\n",
       "      <td>Southampton</td>\n",
       "      <td>yes</td>\n",
       "      <td>True</td>\n",
       "    </tr>\n",
       "    <tr>\n",
       "      <th>888</th>\n",
       "      <td>0</td>\n",
       "      <td>3</td>\n",
       "      <td>female</td>\n",
       "      <td>NaN</td>\n",
       "      <td>1</td>\n",
       "      <td>2</td>\n",
       "      <td>23.45</td>\n",
       "      <td>S</td>\n",
       "      <td>Third</td>\n",
       "      <td>woman</td>\n",
       "      <td>False</td>\n",
       "      <td>NaN</td>\n",
       "      <td>Southampton</td>\n",
       "      <td>no</td>\n",
       "      <td>False</td>\n",
       "    </tr>\n",
       "    <tr>\n",
       "      <th>889</th>\n",
       "      <td>1</td>\n",
       "      <td>1</td>\n",
       "      <td>male</td>\n",
       "      <td>26.0</td>\n",
       "      <td>0</td>\n",
       "      <td>0</td>\n",
       "      <td>30.00</td>\n",
       "      <td>C</td>\n",
       "      <td>First</td>\n",
       "      <td>man</td>\n",
       "      <td>True</td>\n",
       "      <td>C</td>\n",
       "      <td>Cherbourg</td>\n",
       "      <td>yes</td>\n",
       "      <td>True</td>\n",
       "    </tr>\n",
       "    <tr>\n",
       "      <th>890</th>\n",
       "      <td>0</td>\n",
       "      <td>3</td>\n",
       "      <td>male</td>\n",
       "      <td>32.0</td>\n",
       "      <td>0</td>\n",
       "      <td>0</td>\n",
       "      <td>7.75</td>\n",
       "      <td>Q</td>\n",
       "      <td>Third</td>\n",
       "      <td>man</td>\n",
       "      <td>True</td>\n",
       "      <td>NaN</td>\n",
       "      <td>Queenstown</td>\n",
       "      <td>no</td>\n",
       "      <td>True</td>\n",
       "    </tr>\n",
       "  </tbody>\n",
       "</table>\n",
       "</div>"
      ],
      "text/plain": [
       "     survived  pclass     sex   age  sibsp  parch   fare embarked   class  \\\n",
       "886         0       2    male  27.0      0      0  13.00        S  Second   \n",
       "887         1       1  female  19.0      0      0  30.00        S   First   \n",
       "888         0       3  female   NaN      1      2  23.45        S   Third   \n",
       "889         1       1    male  26.0      0      0  30.00        C   First   \n",
       "890         0       3    male  32.0      0      0   7.75        Q   Third   \n",
       "\n",
       "       who  adult_male deck  embark_town alive  alone  \n",
       "886    man        True  NaN  Southampton    no   True  \n",
       "887  woman       False    B  Southampton   yes   True  \n",
       "888  woman       False  NaN  Southampton    no  False  \n",
       "889    man        True    C    Cherbourg   yes   True  \n",
       "890    man        True  NaN   Queenstown    no   True  "
      ]
     },
     "execution_count": 4,
     "metadata": {},
     "output_type": "execute_result"
    }
   ],
   "source": [
    "df.tail()"
   ]
  },
  {
   "cell_type": "code",
   "execution_count": 5,
   "id": "37f6b411-6c45-41ba-a8f3-3007964e1dc4",
   "metadata": {},
   "outputs": [
    {
     "name": "stdout",
     "output_type": "stream",
     "text": [
      "<class 'pandas.core.frame.DataFrame'>\n",
      "RangeIndex: 891 entries, 0 to 890\n",
      "Data columns (total 15 columns):\n",
      " #   Column       Non-Null Count  Dtype  \n",
      "---  ------       --------------  -----  \n",
      " 0   survived     891 non-null    int64  \n",
      " 1   pclass       891 non-null    int64  \n",
      " 2   sex          891 non-null    object \n",
      " 3   age          714 non-null    float64\n",
      " 4   sibsp        891 non-null    int64  \n",
      " 5   parch        891 non-null    int64  \n",
      " 6   fare         891 non-null    float64\n",
      " 7   embarked     889 non-null    object \n",
      " 8   class        891 non-null    object \n",
      " 9   who          891 non-null    object \n",
      " 10  adult_male   891 non-null    bool   \n",
      " 11  deck         203 non-null    object \n",
      " 12  embark_town  889 non-null    object \n",
      " 13  alive        891 non-null    object \n",
      " 14  alone        891 non-null    bool   \n",
      "dtypes: bool(2), float64(2), int64(4), object(7)\n",
      "memory usage: 92.4+ KB\n"
     ]
    }
   ],
   "source": [
    "df.info()"
   ]
  },
  {
   "cell_type": "markdown",
   "id": "a5b248e8-5660-4a99-8183-96d96a3190e0",
   "metadata": {},
   "source": [
    "> Take several columns that will be used, because there are several columns that have the same value, for example, survived and alive."
   ]
  },
  {
   "cell_type": "code",
   "execution_count": 6,
   "id": "e1c132eb-e21d-4354-a132-c7b9d2800d93",
   "metadata": {
    "tags": []
   },
   "outputs": [
    {
     "data": {
      "text/html": [
       "<div>\n",
       "<style scoped>\n",
       "    .dataframe tbody tr th:only-of-type {\n",
       "        vertical-align: middle;\n",
       "    }\n",
       "\n",
       "    .dataframe tbody tr th {\n",
       "        vertical-align: top;\n",
       "    }\n",
       "\n",
       "    .dataframe thead th {\n",
       "        text-align: right;\n",
       "    }\n",
       "</style>\n",
       "<table border=\"1\" class=\"dataframe\">\n",
       "  <thead>\n",
       "    <tr style=\"text-align: right;\">\n",
       "      <th></th>\n",
       "      <th>alive</th>\n",
       "      <th>class</th>\n",
       "      <th>sex</th>\n",
       "      <th>age</th>\n",
       "      <th>sibsp</th>\n",
       "      <th>parch</th>\n",
       "      <th>fare</th>\n",
       "      <th>embark_town</th>\n",
       "    </tr>\n",
       "  </thead>\n",
       "  <tbody>\n",
       "    <tr>\n",
       "      <th>0</th>\n",
       "      <td>no</td>\n",
       "      <td>Third</td>\n",
       "      <td>male</td>\n",
       "      <td>22.0</td>\n",
       "      <td>1</td>\n",
       "      <td>0</td>\n",
       "      <td>7.2500</td>\n",
       "      <td>Southampton</td>\n",
       "    </tr>\n",
       "    <tr>\n",
       "      <th>1</th>\n",
       "      <td>yes</td>\n",
       "      <td>First</td>\n",
       "      <td>female</td>\n",
       "      <td>38.0</td>\n",
       "      <td>1</td>\n",
       "      <td>0</td>\n",
       "      <td>71.2833</td>\n",
       "      <td>Cherbourg</td>\n",
       "    </tr>\n",
       "    <tr>\n",
       "      <th>2</th>\n",
       "      <td>yes</td>\n",
       "      <td>Third</td>\n",
       "      <td>female</td>\n",
       "      <td>26.0</td>\n",
       "      <td>0</td>\n",
       "      <td>0</td>\n",
       "      <td>7.9250</td>\n",
       "      <td>Southampton</td>\n",
       "    </tr>\n",
       "    <tr>\n",
       "      <th>3</th>\n",
       "      <td>yes</td>\n",
       "      <td>First</td>\n",
       "      <td>female</td>\n",
       "      <td>35.0</td>\n",
       "      <td>1</td>\n",
       "      <td>0</td>\n",
       "      <td>53.1000</td>\n",
       "      <td>Southampton</td>\n",
       "    </tr>\n",
       "    <tr>\n",
       "      <th>4</th>\n",
       "      <td>no</td>\n",
       "      <td>Third</td>\n",
       "      <td>male</td>\n",
       "      <td>35.0</td>\n",
       "      <td>0</td>\n",
       "      <td>0</td>\n",
       "      <td>8.0500</td>\n",
       "      <td>Southampton</td>\n",
       "    </tr>\n",
       "  </tbody>\n",
       "</table>\n",
       "</div>"
      ],
      "text/plain": [
       "  alive  class     sex   age  sibsp  parch     fare  embark_town\n",
       "0    no  Third    male  22.0      1      0   7.2500  Southampton\n",
       "1   yes  First  female  38.0      1      0  71.2833    Cherbourg\n",
       "2   yes  Third  female  26.0      0      0   7.9250  Southampton\n",
       "3   yes  First  female  35.0      1      0  53.1000  Southampton\n",
       "4    no  Third    male  35.0      0      0   8.0500  Southampton"
      ]
     },
     "execution_count": 6,
     "metadata": {},
     "output_type": "execute_result"
    }
   ],
   "source": [
    "df_temp = df[[\"alive\", \"class\", \"sex\", \"age\", \"sibsp\", \"parch\",\n",
    "              \"fare\", \"embark_town\"]]\n",
    "df_temp.head()"
   ]
  },
  {
   "cell_type": "markdown",
   "id": "d1a60080-cdf2-4b8b-9e2d-9693d3430c43",
   "metadata": {},
   "source": [
    "> Show dataset information"
   ]
  },
  {
   "cell_type": "code",
   "execution_count": 7,
   "id": "0974c04b-1845-4081-aacd-440a99a1603c",
   "metadata": {},
   "outputs": [
    {
     "name": "stdout",
     "output_type": "stream",
     "text": [
      "<class 'pandas.core.frame.DataFrame'>\n",
      "RangeIndex: 891 entries, 0 to 890\n",
      "Data columns (total 8 columns):\n",
      " #   Column       Non-Null Count  Dtype  \n",
      "---  ------       --------------  -----  \n",
      " 0   alive        891 non-null    object \n",
      " 1   class        891 non-null    object \n",
      " 2   sex          891 non-null    object \n",
      " 3   age          714 non-null    float64\n",
      " 4   sibsp        891 non-null    int64  \n",
      " 5   parch        891 non-null    int64  \n",
      " 6   fare         891 non-null    float64\n",
      " 7   embark_town  889 non-null    object \n",
      "dtypes: float64(2), int64(2), object(4)\n",
      "memory usage: 55.8+ KB\n"
     ]
    }
   ],
   "source": [
    "df_temp.info()"
   ]
  },
  {
   "cell_type": "code",
   "execution_count": 8,
   "id": "7da419cc-7c3d-44e5-87d0-3936f51ec0a0",
   "metadata": {},
   "outputs": [
    {
     "data": {
      "text/plain": [
       "(891, 8)"
      ]
     },
     "execution_count": 8,
     "metadata": {},
     "output_type": "execute_result"
    }
   ],
   "source": [
    "df_temp.shape"
   ]
  },
  {
   "cell_type": "markdown",
   "id": "8e896848-f046-48c1-9a6b-78856c3773c6",
   "metadata": {
    "tags": []
   },
   "source": [
    "## Data Preprocessing"
   ]
  },
  {
   "cell_type": "markdown",
   "id": "75af1fb1-78d0-484f-ba37-20a27ccf437d",
   "metadata": {},
   "source": [
    "> Cleaning the data that has a null value and change the data type of data that has an incorrect data type."
   ]
  },
  {
   "cell_type": "markdown",
   "id": "d7f1a1dd-beb7-46c5-acfd-b9a8f1deea7d",
   "metadata": {},
   "source": [
    "### 1. Filling null values in the age column"
   ]
  },
  {
   "cell_type": "markdown",
   "id": "e930d3dc-6bc6-481d-bfa9-f6677fb4970d",
   "metadata": {},
   "source": [
    "> Fills null value for age column with proxy method based on gender and class column. Where to use the average value to fill in the null values. Null values in the age column are of type Missing at Random."
   ]
  },
  {
   "cell_type": "code",
   "execution_count": 9,
   "id": "3a626610-ce1c-48c5-8f0a-12526a9f5a86",
   "metadata": {},
   "outputs": [],
   "source": [
    "df_null = df_temp[df_temp[\"age\"].isna()]\n",
    "df_not_null = df_temp[df_temp[\"age\"].notna()]"
   ]
  },
  {
   "cell_type": "code",
   "execution_count": 10,
   "id": "dd6bdf87-c6d0-464c-b1e6-89d45e28f668",
   "metadata": {},
   "outputs": [
    {
     "data": {
      "text/html": [
       "<div>\n",
       "<style scoped>\n",
       "    .dataframe tbody tr th:only-of-type {\n",
       "        vertical-align: middle;\n",
       "    }\n",
       "\n",
       "    .dataframe tbody tr th {\n",
       "        vertical-align: top;\n",
       "    }\n",
       "\n",
       "    .dataframe thead th {\n",
       "        text-align: right;\n",
       "    }\n",
       "</style>\n",
       "<table border=\"1\" class=\"dataframe\">\n",
       "  <thead>\n",
       "    <tr style=\"text-align: right;\">\n",
       "      <th></th>\n",
       "      <th>alive</th>\n",
       "      <th>class</th>\n",
       "      <th>sex</th>\n",
       "      <th>age</th>\n",
       "      <th>sibsp</th>\n",
       "      <th>parch</th>\n",
       "      <th>fare</th>\n",
       "      <th>embark_town</th>\n",
       "    </tr>\n",
       "  </thead>\n",
       "  <tbody>\n",
       "    <tr>\n",
       "      <th>5</th>\n",
       "      <td>no</td>\n",
       "      <td>Third</td>\n",
       "      <td>male</td>\n",
       "      <td>NaN</td>\n",
       "      <td>0</td>\n",
       "      <td>0</td>\n",
       "      <td>8.4583</td>\n",
       "      <td>Queenstown</td>\n",
       "    </tr>\n",
       "    <tr>\n",
       "      <th>17</th>\n",
       "      <td>yes</td>\n",
       "      <td>Second</td>\n",
       "      <td>male</td>\n",
       "      <td>NaN</td>\n",
       "      <td>0</td>\n",
       "      <td>0</td>\n",
       "      <td>13.0000</td>\n",
       "      <td>Southampton</td>\n",
       "    </tr>\n",
       "    <tr>\n",
       "      <th>19</th>\n",
       "      <td>yes</td>\n",
       "      <td>Third</td>\n",
       "      <td>female</td>\n",
       "      <td>NaN</td>\n",
       "      <td>0</td>\n",
       "      <td>0</td>\n",
       "      <td>7.2250</td>\n",
       "      <td>Cherbourg</td>\n",
       "    </tr>\n",
       "    <tr>\n",
       "      <th>26</th>\n",
       "      <td>no</td>\n",
       "      <td>Third</td>\n",
       "      <td>male</td>\n",
       "      <td>NaN</td>\n",
       "      <td>0</td>\n",
       "      <td>0</td>\n",
       "      <td>7.2250</td>\n",
       "      <td>Cherbourg</td>\n",
       "    </tr>\n",
       "    <tr>\n",
       "      <th>28</th>\n",
       "      <td>yes</td>\n",
       "      <td>Third</td>\n",
       "      <td>female</td>\n",
       "      <td>NaN</td>\n",
       "      <td>0</td>\n",
       "      <td>0</td>\n",
       "      <td>7.8792</td>\n",
       "      <td>Queenstown</td>\n",
       "    </tr>\n",
       "  </tbody>\n",
       "</table>\n",
       "</div>"
      ],
      "text/plain": [
       "   alive   class     sex  age  sibsp  parch     fare  embark_town\n",
       "5     no   Third    male  NaN      0      0   8.4583   Queenstown\n",
       "17   yes  Second    male  NaN      0      0  13.0000  Southampton\n",
       "19   yes   Third  female  NaN      0      0   7.2250    Cherbourg\n",
       "26    no   Third    male  NaN      0      0   7.2250    Cherbourg\n",
       "28   yes   Third  female  NaN      0      0   7.8792   Queenstown"
      ]
     },
     "execution_count": 10,
     "metadata": {},
     "output_type": "execute_result"
    }
   ],
   "source": [
    "df_null.head()"
   ]
  },
  {
   "cell_type": "code",
   "execution_count": 11,
   "id": "add0ecd0-51ad-4fa5-ae90-91f0ae91766c",
   "metadata": {},
   "outputs": [
    {
     "data": {
      "text/html": [
       "<div>\n",
       "<style scoped>\n",
       "    .dataframe tbody tr th:only-of-type {\n",
       "        vertical-align: middle;\n",
       "    }\n",
       "\n",
       "    .dataframe tbody tr th {\n",
       "        vertical-align: top;\n",
       "    }\n",
       "\n",
       "    .dataframe thead th {\n",
       "        text-align: right;\n",
       "    }\n",
       "</style>\n",
       "<table border=\"1\" class=\"dataframe\">\n",
       "  <thead>\n",
       "    <tr style=\"text-align: right;\">\n",
       "      <th></th>\n",
       "      <th>alive</th>\n",
       "      <th>class</th>\n",
       "      <th>sex</th>\n",
       "      <th>age</th>\n",
       "      <th>sibsp</th>\n",
       "      <th>parch</th>\n",
       "      <th>fare</th>\n",
       "      <th>embark_town</th>\n",
       "    </tr>\n",
       "  </thead>\n",
       "  <tbody>\n",
       "    <tr>\n",
       "      <th>0</th>\n",
       "      <td>no</td>\n",
       "      <td>Third</td>\n",
       "      <td>male</td>\n",
       "      <td>22</td>\n",
       "      <td>1</td>\n",
       "      <td>0</td>\n",
       "      <td>7.2500</td>\n",
       "      <td>Southampton</td>\n",
       "    </tr>\n",
       "    <tr>\n",
       "      <th>1</th>\n",
       "      <td>yes</td>\n",
       "      <td>First</td>\n",
       "      <td>female</td>\n",
       "      <td>38</td>\n",
       "      <td>1</td>\n",
       "      <td>0</td>\n",
       "      <td>71.2833</td>\n",
       "      <td>Cherbourg</td>\n",
       "    </tr>\n",
       "    <tr>\n",
       "      <th>2</th>\n",
       "      <td>yes</td>\n",
       "      <td>Third</td>\n",
       "      <td>female</td>\n",
       "      <td>26</td>\n",
       "      <td>0</td>\n",
       "      <td>0</td>\n",
       "      <td>7.9250</td>\n",
       "      <td>Southampton</td>\n",
       "    </tr>\n",
       "    <tr>\n",
       "      <th>3</th>\n",
       "      <td>yes</td>\n",
       "      <td>First</td>\n",
       "      <td>female</td>\n",
       "      <td>35</td>\n",
       "      <td>1</td>\n",
       "      <td>0</td>\n",
       "      <td>53.1000</td>\n",
       "      <td>Southampton</td>\n",
       "    </tr>\n",
       "    <tr>\n",
       "      <th>4</th>\n",
       "      <td>no</td>\n",
       "      <td>Third</td>\n",
       "      <td>male</td>\n",
       "      <td>35</td>\n",
       "      <td>0</td>\n",
       "      <td>0</td>\n",
       "      <td>8.0500</td>\n",
       "      <td>Southampton</td>\n",
       "    </tr>\n",
       "  </tbody>\n",
       "</table>\n",
       "</div>"
      ],
      "text/plain": [
       "  alive  class     sex  age  sibsp  parch     fare  embark_town\n",
       "0    no  Third    male   22      1      0   7.2500  Southampton\n",
       "1   yes  First  female   38      1      0  71.2833    Cherbourg\n",
       "2   yes  Third  female   26      0      0   7.9250  Southampton\n",
       "3   yes  First  female   35      1      0  53.1000  Southampton\n",
       "4    no  Third    male   35      0      0   8.0500  Southampton"
      ]
     },
     "execution_count": 11,
     "metadata": {},
     "output_type": "execute_result"
    }
   ],
   "source": [
    "df_not_null[\"age\"] = df_not_null[\"age\"].astype(int)\n",
    "df_not_null.head()"
   ]
  },
  {
   "cell_type": "code",
   "execution_count": 12,
   "id": "8431b74f-cc80-4069-902c-f36ce31b7b02",
   "metadata": {},
   "outputs": [
    {
     "data": {
      "text/html": [
       "<div>\n",
       "<style scoped>\n",
       "    .dataframe tbody tr th:only-of-type {\n",
       "        vertical-align: middle;\n",
       "    }\n",
       "\n",
       "    .dataframe tbody tr th {\n",
       "        vertical-align: top;\n",
       "    }\n",
       "\n",
       "    .dataframe thead th {\n",
       "        text-align: right;\n",
       "    }\n",
       "</style>\n",
       "<table border=\"1\" class=\"dataframe\">\n",
       "  <thead>\n",
       "    <tr style=\"text-align: right;\">\n",
       "      <th></th>\n",
       "      <th>sex</th>\n",
       "      <th>class</th>\n",
       "      <th>age</th>\n",
       "    </tr>\n",
       "  </thead>\n",
       "  <tbody>\n",
       "    <tr>\n",
       "      <th>0</th>\n",
       "      <td>female</td>\n",
       "      <td>First</td>\n",
       "      <td>34.611765</td>\n",
       "    </tr>\n",
       "    <tr>\n",
       "      <th>1</th>\n",
       "      <td>female</td>\n",
       "      <td>Second</td>\n",
       "      <td>28.716216</td>\n",
       "    </tr>\n",
       "    <tr>\n",
       "      <th>2</th>\n",
       "      <td>female</td>\n",
       "      <td>Third</td>\n",
       "      <td>21.725490</td>\n",
       "    </tr>\n",
       "    <tr>\n",
       "      <th>3</th>\n",
       "      <td>male</td>\n",
       "      <td>First</td>\n",
       "      <td>41.267327</td>\n",
       "    </tr>\n",
       "    <tr>\n",
       "      <th>4</th>\n",
       "      <td>male</td>\n",
       "      <td>Second</td>\n",
       "      <td>30.707071</td>\n",
       "    </tr>\n",
       "    <tr>\n",
       "      <th>5</th>\n",
       "      <td>male</td>\n",
       "      <td>Third</td>\n",
       "      <td>26.482213</td>\n",
       "    </tr>\n",
       "  </tbody>\n",
       "</table>\n",
       "</div>"
      ],
      "text/plain": [
       "      sex   class        age\n",
       "0  female   First  34.611765\n",
       "1  female  Second  28.716216\n",
       "2  female   Third  21.725490\n",
       "3    male   First  41.267327\n",
       "4    male  Second  30.707071\n",
       "5    male   Third  26.482213"
      ]
     },
     "execution_count": 12,
     "metadata": {},
     "output_type": "execute_result"
    }
   ],
   "source": [
    "df_not_null.groupby([\"sex\", \"class\"], as_index=False)[\"age\"].mean()"
   ]
  },
  {
   "cell_type": "markdown",
   "id": "7b7e0b82-79ed-40b9-b7c4-925109272f46",
   "metadata": {},
   "source": [
    "> The data above can be used as a reference to fill in the null values in the age column."
   ]
  },
  {
   "cell_type": "code",
   "execution_count": 13,
   "id": "5f4c79fb-06f4-4799-991d-1f2947f1d762",
   "metadata": {},
   "outputs": [],
   "source": [
    "age = []\n",
    "for sex, pclass in zip(df_null[\"sex\"], df_null[\"class\"]):\n",
    "    if sex == \"female\":\n",
    "        if pclass == 1:\n",
    "            age.append(35)\n",
    "        elif pclass == 2:\n",
    "            age.append(29)\n",
    "        else:\n",
    "            age.append(22)\n",
    "    else:\n",
    "        if pclass == 1:\n",
    "            age.append(41)\n",
    "        elif pclass == 2:\n",
    "            age.append(31)\n",
    "        else:\n",
    "            age.append(27)"
   ]
  },
  {
   "cell_type": "code",
   "execution_count": 14,
   "id": "83d4c2e2-0362-4d0c-aa91-5b17395172e8",
   "metadata": {},
   "outputs": [
    {
     "data": {
      "text/html": [
       "<div>\n",
       "<style scoped>\n",
       "    .dataframe tbody tr th:only-of-type {\n",
       "        vertical-align: middle;\n",
       "    }\n",
       "\n",
       "    .dataframe tbody tr th {\n",
       "        vertical-align: top;\n",
       "    }\n",
       "\n",
       "    .dataframe thead th {\n",
       "        text-align: right;\n",
       "    }\n",
       "</style>\n",
       "<table border=\"1\" class=\"dataframe\">\n",
       "  <thead>\n",
       "    <tr style=\"text-align: right;\">\n",
       "      <th></th>\n",
       "      <th>alive</th>\n",
       "      <th>class</th>\n",
       "      <th>sex</th>\n",
       "      <th>age</th>\n",
       "      <th>sibsp</th>\n",
       "      <th>parch</th>\n",
       "      <th>fare</th>\n",
       "      <th>embark_town</th>\n",
       "    </tr>\n",
       "  </thead>\n",
       "  <tbody>\n",
       "    <tr>\n",
       "      <th>5</th>\n",
       "      <td>no</td>\n",
       "      <td>Third</td>\n",
       "      <td>male</td>\n",
       "      <td>27</td>\n",
       "      <td>0</td>\n",
       "      <td>0</td>\n",
       "      <td>8.4583</td>\n",
       "      <td>Queenstown</td>\n",
       "    </tr>\n",
       "    <tr>\n",
       "      <th>17</th>\n",
       "      <td>yes</td>\n",
       "      <td>Second</td>\n",
       "      <td>male</td>\n",
       "      <td>27</td>\n",
       "      <td>0</td>\n",
       "      <td>0</td>\n",
       "      <td>13.0000</td>\n",
       "      <td>Southampton</td>\n",
       "    </tr>\n",
       "    <tr>\n",
       "      <th>19</th>\n",
       "      <td>yes</td>\n",
       "      <td>Third</td>\n",
       "      <td>female</td>\n",
       "      <td>22</td>\n",
       "      <td>0</td>\n",
       "      <td>0</td>\n",
       "      <td>7.2250</td>\n",
       "      <td>Cherbourg</td>\n",
       "    </tr>\n",
       "    <tr>\n",
       "      <th>26</th>\n",
       "      <td>no</td>\n",
       "      <td>Third</td>\n",
       "      <td>male</td>\n",
       "      <td>27</td>\n",
       "      <td>0</td>\n",
       "      <td>0</td>\n",
       "      <td>7.2250</td>\n",
       "      <td>Cherbourg</td>\n",
       "    </tr>\n",
       "    <tr>\n",
       "      <th>28</th>\n",
       "      <td>yes</td>\n",
       "      <td>Third</td>\n",
       "      <td>female</td>\n",
       "      <td>22</td>\n",
       "      <td>0</td>\n",
       "      <td>0</td>\n",
       "      <td>7.8792</td>\n",
       "      <td>Queenstown</td>\n",
       "    </tr>\n",
       "  </tbody>\n",
       "</table>\n",
       "</div>"
      ],
      "text/plain": [
       "   alive   class     sex  age  sibsp  parch     fare  embark_town\n",
       "5     no   Third    male   27      0      0   8.4583   Queenstown\n",
       "17   yes  Second    male   27      0      0  13.0000  Southampton\n",
       "19   yes   Third  female   22      0      0   7.2250    Cherbourg\n",
       "26    no   Third    male   27      0      0   7.2250    Cherbourg\n",
       "28   yes   Third  female   22      0      0   7.8792   Queenstown"
      ]
     },
     "execution_count": 14,
     "metadata": {},
     "output_type": "execute_result"
    }
   ],
   "source": [
    "df_null[\"age\"] = age\n",
    "df_null.head()"
   ]
  },
  {
   "cell_type": "code",
   "execution_count": 15,
   "id": "4a292230-b6a6-4f78-adea-b828048b7ec5",
   "metadata": {},
   "outputs": [
    {
     "data": {
      "text/html": [
       "<div>\n",
       "<style scoped>\n",
       "    .dataframe tbody tr th:only-of-type {\n",
       "        vertical-align: middle;\n",
       "    }\n",
       "\n",
       "    .dataframe tbody tr th {\n",
       "        vertical-align: top;\n",
       "    }\n",
       "\n",
       "    .dataframe thead th {\n",
       "        text-align: right;\n",
       "    }\n",
       "</style>\n",
       "<table border=\"1\" class=\"dataframe\">\n",
       "  <thead>\n",
       "    <tr style=\"text-align: right;\">\n",
       "      <th></th>\n",
       "      <th>alive</th>\n",
       "      <th>class</th>\n",
       "      <th>sex</th>\n",
       "      <th>age</th>\n",
       "      <th>sibsp</th>\n",
       "      <th>parch</th>\n",
       "      <th>fare</th>\n",
       "      <th>embark_town</th>\n",
       "    </tr>\n",
       "  </thead>\n",
       "  <tbody>\n",
       "    <tr>\n",
       "      <th>0</th>\n",
       "      <td>no</td>\n",
       "      <td>Third</td>\n",
       "      <td>male</td>\n",
       "      <td>22</td>\n",
       "      <td>1</td>\n",
       "      <td>0</td>\n",
       "      <td>7.2500</td>\n",
       "      <td>Southampton</td>\n",
       "    </tr>\n",
       "    <tr>\n",
       "      <th>1</th>\n",
       "      <td>yes</td>\n",
       "      <td>First</td>\n",
       "      <td>female</td>\n",
       "      <td>38</td>\n",
       "      <td>1</td>\n",
       "      <td>0</td>\n",
       "      <td>71.2833</td>\n",
       "      <td>Cherbourg</td>\n",
       "    </tr>\n",
       "    <tr>\n",
       "      <th>2</th>\n",
       "      <td>yes</td>\n",
       "      <td>Third</td>\n",
       "      <td>female</td>\n",
       "      <td>26</td>\n",
       "      <td>0</td>\n",
       "      <td>0</td>\n",
       "      <td>7.9250</td>\n",
       "      <td>Southampton</td>\n",
       "    </tr>\n",
       "    <tr>\n",
       "      <th>3</th>\n",
       "      <td>yes</td>\n",
       "      <td>First</td>\n",
       "      <td>female</td>\n",
       "      <td>35</td>\n",
       "      <td>1</td>\n",
       "      <td>0</td>\n",
       "      <td>53.1000</td>\n",
       "      <td>Southampton</td>\n",
       "    </tr>\n",
       "    <tr>\n",
       "      <th>4</th>\n",
       "      <td>no</td>\n",
       "      <td>Third</td>\n",
       "      <td>male</td>\n",
       "      <td>35</td>\n",
       "      <td>0</td>\n",
       "      <td>0</td>\n",
       "      <td>8.0500</td>\n",
       "      <td>Southampton</td>\n",
       "    </tr>\n",
       "  </tbody>\n",
       "</table>\n",
       "</div>"
      ],
      "text/plain": [
       "  alive  class     sex  age  sibsp  parch     fare  embark_town\n",
       "0    no  Third    male   22      1      0   7.2500  Southampton\n",
       "1   yes  First  female   38      1      0  71.2833    Cherbourg\n",
       "2   yes  Third  female   26      0      0   7.9250  Southampton\n",
       "3   yes  First  female   35      1      0  53.1000  Southampton\n",
       "4    no  Third    male   35      0      0   8.0500  Southampton"
      ]
     },
     "execution_count": 15,
     "metadata": {},
     "output_type": "execute_result"
    }
   ],
   "source": [
    "df_clean = pd.concat([df_not_null, df_null])\n",
    "df_clean['age'].astype('int64')\n",
    "df_clean.head()"
   ]
  },
  {
   "cell_type": "code",
   "execution_count": 16,
   "id": "bb7de711-28c4-473e-9b3f-158f2671cd2e",
   "metadata": {},
   "outputs": [
    {
     "name": "stdout",
     "output_type": "stream",
     "text": [
      "<class 'pandas.core.frame.DataFrame'>\n",
      "Int64Index: 891 entries, 0 to 888\n",
      "Data columns (total 8 columns):\n",
      " #   Column       Non-Null Count  Dtype  \n",
      "---  ------       --------------  -----  \n",
      " 0   alive        891 non-null    object \n",
      " 1   class        891 non-null    object \n",
      " 2   sex          891 non-null    object \n",
      " 3   age          891 non-null    int64  \n",
      " 4   sibsp        891 non-null    int64  \n",
      " 5   parch        891 non-null    int64  \n",
      " 6   fare         891 non-null    float64\n",
      " 7   embark_town  889 non-null    object \n",
      "dtypes: float64(1), int64(3), object(4)\n",
      "memory usage: 62.6+ KB\n"
     ]
    }
   ],
   "source": [
    "df_clean.info()"
   ]
  },
  {
   "cell_type": "markdown",
   "id": "9337f046-34d5-4f87-ab07-e5c725be3b2b",
   "metadata": {},
   "source": [
    "### 2. Eliminate null values"
   ]
  },
  {
   "cell_type": "markdown",
   "id": "2dd60cb6-aa58-4590-8e5b-b06b40adcd1f",
   "metadata": {},
   "source": [
    "> Deleting data (2 rows of data) that have null values because it is a type of Missing Completely at Random."
   ]
  },
  {
   "cell_type": "code",
   "execution_count": 17,
   "id": "909ab9c6-252d-4099-9818-9c024f22f99b",
   "metadata": {},
   "outputs": [],
   "source": [
    "df_clean = df_clean.dropna()"
   ]
  },
  {
   "cell_type": "code",
   "execution_count": 18,
   "id": "f25295e0-d4b2-4236-bd23-c778b8f29c33",
   "metadata": {},
   "outputs": [
    {
     "data": {
      "text/html": [
       "<div>\n",
       "<style scoped>\n",
       "    .dataframe tbody tr th:only-of-type {\n",
       "        vertical-align: middle;\n",
       "    }\n",
       "\n",
       "    .dataframe tbody tr th {\n",
       "        vertical-align: top;\n",
       "    }\n",
       "\n",
       "    .dataframe thead th {\n",
       "        text-align: right;\n",
       "    }\n",
       "</style>\n",
       "<table border=\"1\" class=\"dataframe\">\n",
       "  <thead>\n",
       "    <tr style=\"text-align: right;\">\n",
       "      <th></th>\n",
       "      <th>alive</th>\n",
       "      <th>class</th>\n",
       "      <th>sex</th>\n",
       "      <th>age</th>\n",
       "      <th>sibsp</th>\n",
       "      <th>parch</th>\n",
       "      <th>fare</th>\n",
       "      <th>embark_town</th>\n",
       "    </tr>\n",
       "  </thead>\n",
       "  <tbody>\n",
       "    <tr>\n",
       "      <th>0</th>\n",
       "      <td>no</td>\n",
       "      <td>Third</td>\n",
       "      <td>male</td>\n",
       "      <td>22</td>\n",
       "      <td>1</td>\n",
       "      <td>0</td>\n",
       "      <td>7.2500</td>\n",
       "      <td>Southampton</td>\n",
       "    </tr>\n",
       "    <tr>\n",
       "      <th>1</th>\n",
       "      <td>yes</td>\n",
       "      <td>First</td>\n",
       "      <td>female</td>\n",
       "      <td>38</td>\n",
       "      <td>1</td>\n",
       "      <td>0</td>\n",
       "      <td>71.2833</td>\n",
       "      <td>Cherbourg</td>\n",
       "    </tr>\n",
       "    <tr>\n",
       "      <th>2</th>\n",
       "      <td>yes</td>\n",
       "      <td>Third</td>\n",
       "      <td>female</td>\n",
       "      <td>26</td>\n",
       "      <td>0</td>\n",
       "      <td>0</td>\n",
       "      <td>7.9250</td>\n",
       "      <td>Southampton</td>\n",
       "    </tr>\n",
       "    <tr>\n",
       "      <th>3</th>\n",
       "      <td>yes</td>\n",
       "      <td>First</td>\n",
       "      <td>female</td>\n",
       "      <td>35</td>\n",
       "      <td>1</td>\n",
       "      <td>0</td>\n",
       "      <td>53.1000</td>\n",
       "      <td>Southampton</td>\n",
       "    </tr>\n",
       "    <tr>\n",
       "      <th>4</th>\n",
       "      <td>no</td>\n",
       "      <td>Third</td>\n",
       "      <td>male</td>\n",
       "      <td>35</td>\n",
       "      <td>0</td>\n",
       "      <td>0</td>\n",
       "      <td>8.0500</td>\n",
       "      <td>Southampton</td>\n",
       "    </tr>\n",
       "  </tbody>\n",
       "</table>\n",
       "</div>"
      ],
      "text/plain": [
       "  alive  class     sex  age  sibsp  parch     fare  embark_town\n",
       "0    no  Third    male   22      1      0   7.2500  Southampton\n",
       "1   yes  First  female   38      1      0  71.2833    Cherbourg\n",
       "2   yes  Third  female   26      0      0   7.9250  Southampton\n",
       "3   yes  First  female   35      1      0  53.1000  Southampton\n",
       "4    no  Third    male   35      0      0   8.0500  Southampton"
      ]
     },
     "execution_count": 18,
     "metadata": {},
     "output_type": "execute_result"
    }
   ],
   "source": [
    "df_clean.head()"
   ]
  },
  {
   "cell_type": "markdown",
   "id": "c903234c-2072-47d2-bb7b-b50970ee75a9",
   "metadata": {},
   "source": [
    "### 3. See the results after doing data preprocessing"
   ]
  },
  {
   "cell_type": "code",
   "execution_count": 19,
   "id": "9b8d8be1-f327-4db8-9e74-4cc73474eaf7",
   "metadata": {},
   "outputs": [
    {
     "name": "stdout",
     "output_type": "stream",
     "text": [
      "<class 'pandas.core.frame.DataFrame'>\n",
      "Int64Index: 889 entries, 0 to 888\n",
      "Data columns (total 8 columns):\n",
      " #   Column       Non-Null Count  Dtype  \n",
      "---  ------       --------------  -----  \n",
      " 0   alive        889 non-null    object \n",
      " 1   class        889 non-null    object \n",
      " 2   sex          889 non-null    object \n",
      " 3   age          889 non-null    int64  \n",
      " 4   sibsp        889 non-null    int64  \n",
      " 5   parch        889 non-null    int64  \n",
      " 6   fare         889 non-null    float64\n",
      " 7   embark_town  889 non-null    object \n",
      "dtypes: float64(1), int64(3), object(4)\n",
      "memory usage: 62.5+ KB\n"
     ]
    }
   ],
   "source": [
    "df_clean.info()"
   ]
  },
  {
   "cell_type": "markdown",
   "id": "519851d4-4d4e-40ae-8106-ee9d3a72c0bb",
   "metadata": {},
   "source": [
    "> Uses `describe()` to see the measure of central tendency, quartile, min, and max for each feature."
   ]
  },
  {
   "cell_type": "code",
   "execution_count": 20,
   "id": "0ac778d1-da8f-4826-a136-405e5f4f2d38",
   "metadata": {},
   "outputs": [
    {
     "data": {
      "text/html": [
       "<div>\n",
       "<style scoped>\n",
       "    .dataframe tbody tr th:only-of-type {\n",
       "        vertical-align: middle;\n",
       "    }\n",
       "\n",
       "    .dataframe tbody tr th {\n",
       "        vertical-align: top;\n",
       "    }\n",
       "\n",
       "    .dataframe thead th {\n",
       "        text-align: right;\n",
       "    }\n",
       "</style>\n",
       "<table border=\"1\" class=\"dataframe\">\n",
       "  <thead>\n",
       "    <tr style=\"text-align: right;\">\n",
       "      <th></th>\n",
       "      <th>age</th>\n",
       "      <th>sibsp</th>\n",
       "      <th>parch</th>\n",
       "      <th>fare</th>\n",
       "    </tr>\n",
       "  </thead>\n",
       "  <tbody>\n",
       "    <tr>\n",
       "      <th>count</th>\n",
       "      <td>889.000000</td>\n",
       "      <td>889.000000</td>\n",
       "      <td>889.000000</td>\n",
       "      <td>889.000000</td>\n",
       "    </tr>\n",
       "    <tr>\n",
       "      <th>mean</th>\n",
       "      <td>28.802025</td>\n",
       "      <td>0.524184</td>\n",
       "      <td>0.382452</td>\n",
       "      <td>32.096681</td>\n",
       "    </tr>\n",
       "    <tr>\n",
       "      <th>std</th>\n",
       "      <td>13.121108</td>\n",
       "      <td>1.103705</td>\n",
       "      <td>0.806761</td>\n",
       "      <td>49.697504</td>\n",
       "    </tr>\n",
       "    <tr>\n",
       "      <th>min</th>\n",
       "      <td>0.000000</td>\n",
       "      <td>0.000000</td>\n",
       "      <td>0.000000</td>\n",
       "      <td>0.000000</td>\n",
       "    </tr>\n",
       "    <tr>\n",
       "      <th>25%</th>\n",
       "      <td>22.000000</td>\n",
       "      <td>0.000000</td>\n",
       "      <td>0.000000</td>\n",
       "      <td>7.895800</td>\n",
       "    </tr>\n",
       "    <tr>\n",
       "      <th>50%</th>\n",
       "      <td>27.000000</td>\n",
       "      <td>0.000000</td>\n",
       "      <td>0.000000</td>\n",
       "      <td>14.454200</td>\n",
       "    </tr>\n",
       "    <tr>\n",
       "      <th>75%</th>\n",
       "      <td>35.000000</td>\n",
       "      <td>1.000000</td>\n",
       "      <td>0.000000</td>\n",
       "      <td>31.000000</td>\n",
       "    </tr>\n",
       "    <tr>\n",
       "      <th>max</th>\n",
       "      <td>80.000000</td>\n",
       "      <td>8.000000</td>\n",
       "      <td>6.000000</td>\n",
       "      <td>512.329200</td>\n",
       "    </tr>\n",
       "  </tbody>\n",
       "</table>\n",
       "</div>"
      ],
      "text/plain": [
       "              age       sibsp       parch        fare\n",
       "count  889.000000  889.000000  889.000000  889.000000\n",
       "mean    28.802025    0.524184    0.382452   32.096681\n",
       "std     13.121108    1.103705    0.806761   49.697504\n",
       "min      0.000000    0.000000    0.000000    0.000000\n",
       "25%     22.000000    0.000000    0.000000    7.895800\n",
       "50%     27.000000    0.000000    0.000000   14.454200\n",
       "75%     35.000000    1.000000    0.000000   31.000000\n",
       "max     80.000000    8.000000    6.000000  512.329200"
      ]
     },
     "execution_count": 20,
     "metadata": {},
     "output_type": "execute_result"
    }
   ],
   "source": [
    "df_clean.describe()"
   ]
  },
  {
   "cell_type": "markdown",
   "id": "a687082c-693d-4d87-a996-509448fb24d7",
   "metadata": {},
   "source": [
    "> Uses `describe()` to see unique (different categories), top (most data appears), and freq (frequently appearing data) values for categorical data."
   ]
  },
  {
   "cell_type": "code",
   "execution_count": 21,
   "id": "53561f83-e83c-4793-b1b9-2a36cef0672e",
   "metadata": {},
   "outputs": [
    {
     "data": {
      "text/html": [
       "<div>\n",
       "<style scoped>\n",
       "    .dataframe tbody tr th:only-of-type {\n",
       "        vertical-align: middle;\n",
       "    }\n",
       "\n",
       "    .dataframe tbody tr th {\n",
       "        vertical-align: top;\n",
       "    }\n",
       "\n",
       "    .dataframe thead th {\n",
       "        text-align: right;\n",
       "    }\n",
       "</style>\n",
       "<table border=\"1\" class=\"dataframe\">\n",
       "  <thead>\n",
       "    <tr style=\"text-align: right;\">\n",
       "      <th></th>\n",
       "      <th>count</th>\n",
       "      <th>unique</th>\n",
       "      <th>top</th>\n",
       "      <th>freq</th>\n",
       "    </tr>\n",
       "  </thead>\n",
       "  <tbody>\n",
       "    <tr>\n",
       "      <th>alive</th>\n",
       "      <td>889</td>\n",
       "      <td>2</td>\n",
       "      <td>no</td>\n",
       "      <td>549</td>\n",
       "    </tr>\n",
       "    <tr>\n",
       "      <th>class</th>\n",
       "      <td>889</td>\n",
       "      <td>3</td>\n",
       "      <td>Third</td>\n",
       "      <td>491</td>\n",
       "    </tr>\n",
       "    <tr>\n",
       "      <th>sex</th>\n",
       "      <td>889</td>\n",
       "      <td>2</td>\n",
       "      <td>male</td>\n",
       "      <td>577</td>\n",
       "    </tr>\n",
       "    <tr>\n",
       "      <th>embark_town</th>\n",
       "      <td>889</td>\n",
       "      <td>3</td>\n",
       "      <td>Southampton</td>\n",
       "      <td>644</td>\n",
       "    </tr>\n",
       "  </tbody>\n",
       "</table>\n",
       "</div>"
      ],
      "text/plain": [
       "            count unique          top freq\n",
       "alive         889      2           no  549\n",
       "class         889      3        Third  491\n",
       "sex           889      2         male  577\n",
       "embark_town   889      3  Southampton  644"
      ]
     },
     "execution_count": 21,
     "metadata": {},
     "output_type": "execute_result"
    }
   ],
   "source": [
    "df_clean.describe(include='object').T"
   ]
  },
  {
   "cell_type": "markdown",
   "id": "90d76ccf-3fa0-4377-aa5f-4d7ac01c2f3f",
   "metadata": {},
   "source": [
    "## Exploratory Data Analysis (EDA)"
   ]
  },
  {
   "cell_type": "markdown",
   "id": "25eca4e7-a8d1-44d3-9138-9b58bdc79992",
   "metadata": {},
   "source": [
    "> Start this process by looking at the target feature first."
   ]
  },
  {
   "cell_type": "markdown",
   "id": "3f7fe3c7-ef8b-411c-965b-882cd6001d39",
   "metadata": {},
   "source": [
    "### Target Feature"
   ]
  },
  {
   "cell_type": "code",
   "execution_count": 22,
   "id": "791ff27e-c4f8-4319-9f2e-0cafcee9482c",
   "metadata": {},
   "outputs": [
    {
     "data": {
      "image/png": "[encoded data removed]",
      "text/plain": [
       "<Figure size 720x576 with 1 Axes>"
      ]
     },
     "metadata": {},
     "output_type": "display_data"
    }
   ],
   "source": [
    "plt.figure(figsize=(10, 8))\n",
    "plt.title(\"Alive YES or NO?\", size=10, fontweight='bold')\n",
    "plt.pie(df_clean['alive'].value_counts(), autopct='%.0f%%',\n",
    "        textprops={'fontsize': 15, 'color': 'white'}, explode=(0.1, 0))\n",
    "plt.legend(['No', 'Yes'], loc='lower left', fontsize=13)\n",
    "plt.show()"
   ]
  },
  {
   "cell_type": "code",
   "execution_count": 23,
   "id": "ab671c24-1ecb-4f82-91cb-9e979f23a7e1",
   "metadata": {},
   "outputs": [
    {
     "data": {
      "text/plain": [
       "no     549\n",
       "yes    340\n",
       "Name: alive, dtype: int64"
      ]
     },
     "execution_count": 23,
     "metadata": {},
     "output_type": "execute_result"
    }
   ],
   "source": [
    "df_clean['alive'].value_counts()"
   ]
  },
  {
   "cell_type": "markdown",
   "id": "9c0c8d87-57e6-4dbf-b5b7-cca0ef121501",
   "metadata": {},
   "source": [
    "> From the data above, we can see that 340 passengers survived from a total of 889 passengers."
   ]
  },
  {
   "cell_type": "markdown",
   "id": "341ee806-2fc1-415b-b060-decfc90ba3c2",
   "metadata": {},
   "source": [
    "### Numerical Features"
   ]
  },
  {
   "cell_type": "code",
   "execution_count": 24,
   "id": "365c4c23-288e-4a17-b0ea-1cb6a80dffbd",
   "metadata": {},
   "outputs": [
    {
     "data": {
      "text/plain": [
       "<AxesSubplot:>"
      ]
     },
     "execution_count": 24,
     "metadata": {},
     "output_type": "execute_result"
    },
    {
     "data": {
      "image/png": "[encoded data removed]",
      "text/plain": [
       "<Figure size 864x432 with 2 Axes>"
      ]
     },
     "metadata": {
      "needs_background": "light"
     },
     "output_type": "display_data"
    }
   ],
   "source": [
    "plt.figure(figsize=(12, 6))\n",
    "sns.heatmap(df_clean.select_dtypes(['int64', 'float64']).corr('spearman'),\n",
    "            annot=True)"
   ]
  },
  {
   "cell_type": "markdown",
   "id": "84d8d723-1f6d-4d2c-8a29-915aeef503a3",
   "metadata": {},
   "source": [
    "> From these data, we can see that\n",
    "> 1. The `sibsp` column with `parch` and `fare` columns has a correlation coefficient of **0.45** and can be categorized as **low correlation**.\n",
    "> 2. The `parch` column with the `fare` column has a correlation coefficient of **0.41** and can be categorized as **low correlation**."
   ]
  },
  {
   "cell_type": "code",
   "execution_count": 25,
   "id": "701f0ffd-05bf-4309-8c11-36a878f5e703",
   "metadata": {},
   "outputs": [
    {
     "data": {
      "text/plain": [
       "<seaborn.axisgrid.PairGrid at 0x2749b5bba30>"
      ]
     },
     "execution_count": 25,
     "metadata": {},
     "output_type": "execute_result"
    },
    {
     "data": {
      "image/png": "[encoded data removed]",
      "text/plain": [
       "<Figure size 413.25x360 with 6 Axes>"
      ]
     },
     "metadata": {
      "needs_background": "light"
     },
     "output_type": "display_data"
    }
   ],
   "source": [
    "# sibsp vs parch\n",
    "\n",
    "sns.pairplot(df_clean[['sibsp', 'parch', 'alive']], hue=\"alive\")"
   ]
  },
  {
   "cell_type": "code",
   "execution_count": 26,
   "id": "fc9f7cea-d2fd-48ff-9456-2565565cb137",
   "metadata": {},
   "outputs": [
    {
     "data": {
      "text/plain": [
       "<seaborn.axisgrid.PairGrid at 0x2749a9d6fd0>"
      ]
     },
     "execution_count": 26,
     "metadata": {},
     "output_type": "execute_result"
    },
    {
     "data": {
      "image/png": "[encoded data removed]",
      "text/plain": [
       "<Figure size 413.25x360 with 6 Axes>"
      ]
     },
     "metadata": {
      "needs_background": "light"
     },
     "output_type": "display_data"
    }
   ],
   "source": [
    "# sibsp vs fare\n",
    "\n",
    "sns.pairplot(df_clean[['sibsp', 'fare', 'alive']], hue=\"alive\")"
   ]
  },
  {
   "cell_type": "code",
   "execution_count": 27,
   "id": "1bb1d8f2-aa82-40c8-b0e1-7ff73cdecf53",
   "metadata": {},
   "outputs": [
    {
     "data": {
      "text/plain": [
       "<seaborn.axisgrid.PairGrid at 0x2749ba8f5e0>"
      ]
     },
     "execution_count": 27,
     "metadata": {},
     "output_type": "execute_result"
    },
    {
     "data": {
      "image/png": "[encoded data removed]",
      "text/plain": [
       "<Figure size 413.25x360 with 6 Axes>"
      ]
     },
     "metadata": {
      "needs_background": "light"
     },
     "output_type": "display_data"
    }
   ],
   "source": [
    "# parch vs fare\n",
    "\n",
    "sns.pairplot(df_clean[['parch', 'fare', 'alive']], hue=\"alive\")"
   ]
  },
  {
   "cell_type": "markdown",
   "id": "d414b761-c7ee-45fb-b729-12cba8fc1266",
   "metadata": {},
   "source": [
    "> From the `pairplot` it can be seen that the pattern of passengers who **survived** are passengers who go **alone** or with **family** (siblings / parents) as many as **1-2 people** family members and buy Titanic tickets from **various fares**.\n",
    "\n",
    "> Meanwhile, passengers who are **not survive** are passengers who **go with family** between **4-8 members** families who bought Titanic tickets ranged from **0 - 50 pounds**."
   ]
  },
  {
   "cell_type": "code",
   "execution_count": 28,
   "id": "ca70f8c0-871a-494c-8dd7-6b764cb8e027",
   "metadata": {},
   "outputs": [],
   "source": [
    "df_con_new = df_clean.select_dtypes(['int64', 'float64'])"
   ]
  },
  {
   "cell_type": "code",
   "execution_count": 29,
   "id": "b79aa576-e630-46fc-9ae9-349657732e11",
   "metadata": {},
   "outputs": [
    {
     "data": {
      "image/png": "[encoded data removed]",
      "text/plain": [
       "<Figure size 864x432 with 1 Axes>"
      ]
     },
     "metadata": {
      "needs_background": "light"
     },
     "output_type": "display_data"
    },
    {
     "data": {
      "image/png": "[encoded data removed]",
      "text/plain": [
       "<Figure size 864x432 with 1 Axes>"
      ]
     },
     "metadata": {
      "needs_background": "light"
     },
     "output_type": "display_data"
    },
    {
     "data": {
      "image/png": "[encoded data removed]",
      "text/plain": [
       "<Figure size 864x432 with 1 Axes>"
      ]
     },
     "metadata": {
      "needs_background": "light"
     },
     "output_type": "display_data"
    },
    {
     "data": {
      "image/png": "[encoded data removed]",
      "text/plain": [
       "<Figure size 864x432 with 1 Axes>"
      ]
     },
     "metadata": {
      "needs_background": "light"
     },
     "output_type": "display_data"
    }
   ],
   "source": [
    "for i in df_con_new.columns:\n",
    "    plt.figure(figsize=(12, 6))\n",
    "    ax = sns.distplot(df_clean[(df_clean['alive'] == 'no')][i])\n",
    "    ax = sns.distplot(df_clean[(df_clean['alive'] == 'yes')][i])\n",
    "\n",
    "    ax.legend(['No', 'Yes'])\n",
    "\n",
    "    plt.xlabel(i, fontsize=12)\n",
    "    plt.title('Distribution of survived by ' + i, fontsize=22)\n",
    "\n",
    "    plt.tight_layout()\n",
    "    plt.show()"
   ]
  },
  {
   "cell_type": "code",
   "execution_count": 30,
   "id": "8a85b602-0e84-4e8e-b922-f68d6b2939f9",
   "metadata": {},
   "outputs": [
    {
     "name": "stdout",
     "output_type": "stream",
     "text": [
      "Survived by age\n",
      "22    47\n",
      "27    27\n",
      "24    15\n",
      "35    11\n",
      "36    11\n",
      "Name: age, dtype: int64\n",
      "Not Survived by age\n",
      "27    115\n",
      "22     33\n",
      "28     20\n",
      "21     19\n",
      "30     17\n",
      "Name: age, dtype: int64\n",
      "\n",
      "\n",
      "Survived by sibsp\n",
      "0    208\n",
      "1    112\n",
      "2     13\n",
      "3      4\n",
      "4      3\n",
      "Name: sibsp, dtype: int64\n",
      "Not Survived by sibsp\n",
      "0    398\n",
      "1     97\n",
      "4     15\n",
      "2     15\n",
      "3     12\n",
      "Name: sibsp, dtype: int64\n",
      "\n",
      "\n",
      "Survived by parch\n",
      "0    231\n",
      "1     65\n",
      "2     40\n",
      "3      3\n",
      "5      1\n",
      "Name: parch, dtype: int64\n",
      "Not Survived by parch\n",
      "0    445\n",
      "1     53\n",
      "2     40\n",
      "5      4\n",
      "4      4\n",
      "Name: parch, dtype: int64\n",
      "\n",
      "\n",
      "Survived by fare\n",
      "13.00    16\n",
      "26.00    15\n",
      "7.75     12\n",
      "10.50     9\n",
      "26.55     8\n",
      "Name: fare, dtype: int64\n",
      "Not Survived by fare\n",
      "8.0500     38\n",
      "7.8958     37\n",
      "13.0000    26\n",
      "7.7500     22\n",
      "26.0000    16\n",
      "Name: fare, dtype: int64\n",
      "\n",
      "\n"
     ]
    }
   ],
   "source": [
    "con_alive = df_con_new[df_clean['alive'] == 'yes']\n",
    "con_not_alive = df_con_new[df_clean['alive'] == 'no']\n",
    "for i in con_alive.columns:\n",
    "    print(f\"Survived by {i}\")\n",
    "    print(con_alive[i].value_counts().head())\n",
    "    print(f\"Not Survived by {i}\")\n",
    "    print(con_not_alive[i].value_counts().head())\n",
    "    print(\"\\n\")"
   ]
  },
  {
   "cell_type": "markdown",
   "id": "db206eb3-1b70-4d05-a50e-8957ac6af83c",
   "metadata": {},
   "source": [
    "> From the data above, we can detail the previous explanation, that\n",
    "> 1. Most of the passengers who did **not survive** were passengers who were **27 years old** and most of the passengers who **survived** were **22 years old**.\n",
    "> 2. More passengers do **not survive** when traveling alone or with **4-8 other family members**. While passengers who go with **1-2 other family members** tend to **survive** more.\n",
    "> 3. A lot of passengers who buy tickets with fares **under 20 pounds** are **not survive**."
   ]
  },
  {
   "cell_type": "markdown",
   "id": "684a7fbb-31f9-4372-a2f1-b7d6cfefaaa5",
   "metadata": {},
   "source": [
    "### Categorical Data"
   ]
  },
  {
   "cell_type": "markdown",
   "id": "9d1202b9-3608-4c09-ac96-84bc3ddaa66f",
   "metadata": {},
   "source": [
    "> Calculates the correlation on each feature."
   ]
  },
  {
   "cell_type": "markdown",
   "id": "18e4a2fd-132f-4537-9cb6-4f30a44eef58",
   "metadata": {},
   "source": [
    "> Change categorical string data to numeric categorical."
   ]
  },
  {
   "cell_type": "code",
   "execution_count": 31,
   "id": "df73f1c4-a9a8-4774-bca9-e700dcceb4ee",
   "metadata": {},
   "outputs": [],
   "source": [
    "df_ctg = df_clean.select_dtypes(exclude=['float', 'int'])\n",
    "for i in df_ctg.columns:\n",
    "    df_ctg[i] = df_clean[i].astype('category').cat.codes"
   ]
  },
  {
   "cell_type": "code",
   "execution_count": 32,
   "id": "56618aba-c952-44f9-a0d1-e83e75415fd2",
   "metadata": {
    "tags": []
   },
   "outputs": [
    {
     "data": {
      "text/html": [
       "<div>\n",
       "<style scoped>\n",
       "    .dataframe tbody tr th:only-of-type {\n",
       "        vertical-align: middle;\n",
       "    }\n",
       "\n",
       "    .dataframe tbody tr th {\n",
       "        vertical-align: top;\n",
       "    }\n",
       "\n",
       "    .dataframe thead th {\n",
       "        text-align: right;\n",
       "    }\n",
       "</style>\n",
       "<table border=\"1\" class=\"dataframe\">\n",
       "  <thead>\n",
       "    <tr style=\"text-align: right;\">\n",
       "      <th></th>\n",
       "      <th>alive</th>\n",
       "      <th>class</th>\n",
       "      <th>sex</th>\n",
       "      <th>embark_town</th>\n",
       "    </tr>\n",
       "  </thead>\n",
       "  <tbody>\n",
       "    <tr>\n",
       "      <th>0</th>\n",
       "      <td>0</td>\n",
       "      <td>2</td>\n",
       "      <td>1</td>\n",
       "      <td>2</td>\n",
       "    </tr>\n",
       "    <tr>\n",
       "      <th>1</th>\n",
       "      <td>1</td>\n",
       "      <td>0</td>\n",
       "      <td>0</td>\n",
       "      <td>0</td>\n",
       "    </tr>\n",
       "    <tr>\n",
       "      <th>2</th>\n",
       "      <td>1</td>\n",
       "      <td>2</td>\n",
       "      <td>0</td>\n",
       "      <td>2</td>\n",
       "    </tr>\n",
       "    <tr>\n",
       "      <th>3</th>\n",
       "      <td>1</td>\n",
       "      <td>0</td>\n",
       "      <td>0</td>\n",
       "      <td>2</td>\n",
       "    </tr>\n",
       "    <tr>\n",
       "      <th>4</th>\n",
       "      <td>0</td>\n",
       "      <td>2</td>\n",
       "      <td>1</td>\n",
       "      <td>2</td>\n",
       "    </tr>\n",
       "  </tbody>\n",
       "</table>\n",
       "</div>"
      ],
      "text/plain": [
       "   alive  class  sex  embark_town\n",
       "0      0      2    1            2\n",
       "1      1      0    0            0\n",
       "2      1      2    0            2\n",
       "3      1      0    0            2\n",
       "4      0      2    1            2"
      ]
     },
     "execution_count": 32,
     "metadata": {},
     "output_type": "execute_result"
    }
   ],
   "source": [
    "df_ctg.head()"
   ]
  },
  {
   "cell_type": "markdown",
   "id": "f87b2f57-1ded-48d8-81e6-6eb938b28d16",
   "metadata": {},
   "source": [
    "- alive (0 = no, 1 = yes)\n",
    "- class (0 = first, 1 = second, 2 = third)\n",
    "- sex (0 = female, 1 = male)\n",
    "- embark_town (0 = Cherbourg, 1 = Queenstown, 2 = Southampton)"
   ]
  },
  {
   "cell_type": "code",
   "execution_count": 33,
   "id": "b61af34c-a481-404e-93a4-721538d8c049",
   "metadata": {
    "tags": []
   },
   "outputs": [
    {
     "data": {
      "text/plain": [
       "<AxesSubplot:>"
      ]
     },
     "execution_count": 33,
     "metadata": {},
     "output_type": "execute_result"
    },
    {
     "data": {
      "image/png": "[encoded data removed]",
      "text/plain": [
       "<Figure size 864x432 with 2 Axes>"
      ]
     },
     "metadata": {
      "needs_background": "light"
     },
     "output_type": "display_data"
    }
   ],
   "source": [
    "plt.figure(figsize=(12, 6))\n",
    "sns.heatmap(df_ctg.corr('spearman'), annot=True)"
   ]
  },
  {
   "cell_type": "markdown",
   "id": "509af204-b815-44ac-bc37-104861142046",
   "metadata": {},
   "source": [
    "> From the correlation coefficient above, it can be seen that all categories have **no correlation**. The highest correlation coefficient in this matrix is **class** with **sex** of **0.13** and **sex** with **embark town** of **0.12**. The two correlations are included in the **correlation that can be ignored**."
   ]
  },
  {
   "cell_type": "code",
   "execution_count": 34,
   "id": "4217d1fe-7ffa-4151-9e4f-e011fd4753a6",
   "metadata": {},
   "outputs": [],
   "source": [
    "df_categ = df_clean.select_dtypes(['object'])"
   ]
  },
  {
   "cell_type": "markdown",
   "id": "ee748bdc-5952-4808-b373-a12aaddbbd11",
   "metadata": {},
   "source": [
    "> Using `crosstab()` to find out more details about the previously searched correlation."
   ]
  },
  {
   "cell_type": "code",
   "execution_count": 35,
   "id": "1c438d69-9115-48d9-ad79-fbdee85403e9",
   "metadata": {},
   "outputs": [
    {
     "data": {
      "text/html": [
       "<div>\n",
       "<style scoped>\n",
       "    .dataframe tbody tr th:only-of-type {\n",
       "        vertical-align: middle;\n",
       "    }\n",
       "\n",
       "    .dataframe tbody tr th {\n",
       "        vertical-align: top;\n",
       "    }\n",
       "\n",
       "    .dataframe thead th {\n",
       "        text-align: right;\n",
       "    }\n",
       "</style>\n",
       "<table border=\"1\" class=\"dataframe\">\n",
       "  <thead>\n",
       "    <tr style=\"text-align: right;\">\n",
       "      <th>sex</th>\n",
       "      <th>female</th>\n",
       "      <th>male</th>\n",
       "    </tr>\n",
       "    <tr>\n",
       "      <th>class</th>\n",
       "      <th></th>\n",
       "      <th></th>\n",
       "    </tr>\n",
       "  </thead>\n",
       "  <tbody>\n",
       "    <tr>\n",
       "      <th>First</th>\n",
       "      <td>0.103487</td>\n",
       "      <td>0.137233</td>\n",
       "    </tr>\n",
       "    <tr>\n",
       "      <th>Second</th>\n",
       "      <td>0.085489</td>\n",
       "      <td>0.121485</td>\n",
       "    </tr>\n",
       "    <tr>\n",
       "      <th>Third</th>\n",
       "      <td>0.161980</td>\n",
       "      <td>0.390326</td>\n",
       "    </tr>\n",
       "  </tbody>\n",
       "</table>\n",
       "</div>"
      ],
      "text/plain": [
       "sex       female      male\n",
       "class                     \n",
       "First   0.103487  0.137233\n",
       "Second  0.085489  0.121485\n",
       "Third   0.161980  0.390326"
      ]
     },
     "execution_count": 35,
     "metadata": {},
     "output_type": "execute_result"
    }
   ],
   "source": [
    "pd.crosstab(df_categ['class'], df_categ['sex'], normalize=True)"
   ]
  },
  {
   "cell_type": "markdown",
   "id": "57f38a23-c546-4acb-ab2c-eb903d45e07a",
   "metadata": {},
   "source": [
    "> It can be seen from the `crosstab` above, that the most **not survive** passengers were **male** passengers who bought **3rd class** tickets."
   ]
  },
  {
   "cell_type": "code",
   "execution_count": 36,
   "id": "26a6eb76-d806-4040-89b3-7453696c5cf4",
   "metadata": {},
   "outputs": [
    {
     "data": {
      "text/html": [
       "<div>\n",
       "<style scoped>\n",
       "    .dataframe tbody tr th:only-of-type {\n",
       "        vertical-align: middle;\n",
       "    }\n",
       "\n",
       "    .dataframe tbody tr th {\n",
       "        vertical-align: top;\n",
       "    }\n",
       "\n",
       "    .dataframe thead th {\n",
       "        text-align: right;\n",
       "    }\n",
       "</style>\n",
       "<table border=\"1\" class=\"dataframe\">\n",
       "  <thead>\n",
       "    <tr style=\"text-align: right;\">\n",
       "      <th>embark_town</th>\n",
       "      <th>Cherbourg</th>\n",
       "      <th>Queenstown</th>\n",
       "      <th>Southampton</th>\n",
       "    </tr>\n",
       "    <tr>\n",
       "      <th>sex</th>\n",
       "      <th></th>\n",
       "      <th></th>\n",
       "      <th></th>\n",
       "    </tr>\n",
       "  </thead>\n",
       "  <tbody>\n",
       "    <tr>\n",
       "      <th>female</th>\n",
       "      <td>0.082115</td>\n",
       "      <td>0.040495</td>\n",
       "      <td>0.228346</td>\n",
       "    </tr>\n",
       "    <tr>\n",
       "      <th>male</th>\n",
       "      <td>0.106862</td>\n",
       "      <td>0.046119</td>\n",
       "      <td>0.496063</td>\n",
       "    </tr>\n",
       "  </tbody>\n",
       "</table>\n",
       "</div>"
      ],
      "text/plain": [
       "embark_town  Cherbourg  Queenstown  Southampton\n",
       "sex                                            \n",
       "female        0.082115    0.040495     0.228346\n",
       "male          0.106862    0.046119     0.496063"
      ]
     },
     "execution_count": 36,
     "metadata": {},
     "output_type": "execute_result"
    }
   ],
   "source": [
    "pd.crosstab(df_categ['sex'], df_categ['embark_town'], normalize=True)"
   ]
  },
  {
   "cell_type": "markdown",
   "id": "f97a0ca4-1cbe-47df-8d95-95d8d4e79b97",
   "metadata": {},
   "source": [
    "> It can be seen from the `crosstab` above, that the most **not survive** passengers were **male** passengers who departed from the port of **Southampton**."
   ]
  },
  {
   "cell_type": "markdown",
   "id": "32dd8996-aea7-4bc4-ab87-0ddf1afc4b57",
   "metadata": {},
   "source": [
    "> Do a thorough exploration of the category features. The live column is dropped because it is a target feature and has been visualized at the beginning."
   ]
  },
  {
   "cell_type": "code",
   "execution_count": 37,
   "id": "65109341-3193-417b-856c-20e56a53b06d",
   "metadata": {},
   "outputs": [
    {
     "data": {
      "image/png": "[encoded data removed]",
      "text/plain": [
       "<Figure size 864x432 with 1 Axes>"
      ]
     },
     "metadata": {
      "needs_background": "light"
     },
     "output_type": "display_data"
    },
    {
     "data": {
      "image/png": "[encoded data removed]",
      "text/plain": [
       "<Figure size 864x432 with 1 Axes>"
      ]
     },
     "metadata": {
      "needs_background": "light"
     },
     "output_type": "display_data"
    },
    {
     "data": {
      "image/png": "[encoded data removed]",
      "text/plain": [
       "<Figure size 864x432 with 1 Axes>"
      ]
     },
     "metadata": {
      "needs_background": "light"
     },
     "output_type": "display_data"
    }
   ],
   "source": [
    "for i in df_categ.drop(columns=['alive']):\n",
    "    plt.figure(figsize=(12, 6))\n",
    "    ax = sns.countplot(x=i, data=df_clean, hue='alive')\n",
    "    plt.legend(loc='upper right', fontsize=13)\n",
    "    plt.xlabel(i, fontsize=20)\n",
    "    plt.xticks(rotation=35)\n",
    "    plt.tight_layout\n",
    "    plt.show()"
   ]
  },
  {
   "cell_type": "code",
   "execution_count": 38,
   "id": "a2cfc608-02b7-4751-a0ee-2954ddd3b92d",
   "metadata": {},
   "outputs": [],
   "source": [
    "cat_alive = df_categ[df_categ['alive'] == 'yes']"
   ]
  },
  {
   "cell_type": "code",
   "execution_count": 39,
   "id": "73ec3e3f-1610-41a8-bbd8-7b6c307ec33f",
   "metadata": {},
   "outputs": [
    {
     "data": {
      "image/png": "[encoded data removed]",
      "text/plain": [
       "<Figure size 864x432 with 1 Axes>"
      ]
     },
     "metadata": {
      "needs_background": "light"
     },
     "output_type": "display_data"
    },
    {
     "data": {
      "image/png": "[encoded data removed]",
      "text/plain": [
       "<Figure size 864x432 with 1 Axes>"
      ]
     },
     "metadata": {
      "needs_background": "light"
     },
     "output_type": "display_data"
    },
    {
     "data": {
      "image/png": "[encoded data removed]",
      "text/plain": [
       "<Figure size 864x432 with 1 Axes>"
      ]
     },
     "metadata": {
      "needs_background": "light"
     },
     "output_type": "display_data"
    }
   ],
   "source": [
    "for i in cat_alive.drop(columns=['alive']):\n",
    "    plt.figure(figsize=(12, 6))\n",
    "    sns.countplot(cat_alive[i])\n",
    "    plt.xlabel(i, fontsize=20)\n",
    "    plt.xticks(rotation=35)\n",
    "    plt.tight_layout\n",
    "    plt.show()"
   ]
  },
  {
   "cell_type": "markdown",
   "id": "18fdb6e9-8847-4fda-a720-831a66dee055",
   "metadata": {},
   "source": [
    "> From the visualization above, it can be seen that many of the passengers who **survived** came from **first class** and/or were **female** and/or departed from the port of **Southampton**."
   ]
  },
  {
   "cell_type": "markdown",
   "id": "5a86146f-8b18-409e-b7df-06728f91541d",
   "metadata": {},
   "source": [
    "## Summary"
   ]
  },
  {
   "cell_type": "markdown",
   "id": "60122340-c6c0-4fd1-a4f9-e2c38cc09150",
   "metadata": {},
   "source": [
    "The Titanic passengers who did not survive were 62% (549 passengers) and those who survived were 38% (340 passengers) with a total of 889 passengers.\n",
    "\n",
    "There is a low correlation between sibsp column with parch and fare, and parch column with fare. From this correlation, it can be concluded that\n",
    "1. Most of the passengers who survived were passengers who traveled alone or with 1-2 family members and/or were 22 years old.\n",
    "\n",
    "2. Most of the passengers who did not survive were passengers who went with more than 4 family members and/or bought tickets for under 20 pounds and/or were around 27 years old.\n",
    "\n",
    "There is no correlation between categorical data, but there is information that can be seen\n",
    "1. Many of the passengers who did not survive came from passengers who had third class tickets, while many of the survivors came from frist class tickets.\n",
    "\n",
    "2. More male passengers died than female passengers.\n",
    "\n",
    "3. More than half of passengers departing from Southampton did not survive and compared to 2 other port.\n",
    "\n",
    "4. Passengers who survived Cherbourg more than passengers who did not survive. When compared to other port, the port of Cherbourg is the only port that has a higher level of passenger survive compared to passengers who did not survive."
   ]
  }
 ],
 "metadata": {
  "kernelspec": {
   "display_name": "Python 3 (ipykernel)",
   "language": "python",
   "name": "python3"
  },
  "language_info": {
   "codemirror_mode": {
    "name": "ipython",
    "version": 3
   },
   "file_extension": ".py",
   "mimetype": "text/x-python",
   "name": "python",
   "nbconvert_exporter": "python",
   "pygments_lexer": "ipython3",
   "version": "3.9.12"
  },
  "vscode": {
   "interpreter": {
    "hash": "107d7b120a5b68773a87d4067e673630b35702e55ebab3138143d08b1c4d7cbc"
   }
  }
 },
 "nbformat": 4,
 "nbformat_minor": 5
}
